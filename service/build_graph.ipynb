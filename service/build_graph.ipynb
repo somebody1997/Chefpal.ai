{
 "cells": [
  {
   "cell_type": "code",
   "execution_count": 1,
   "metadata": {},
   "outputs": [],
   "source": [
    "import getpass\n",
    "import os\n",
    "\n",
    "\n",
    "def _set_env(var: str):\n",
    "    if not os.environ.get(var):\n",
    "        os.environ[var] = getpass.getpass(f\"{var}: \")\n",
    "\n",
    "\n",
    "_set_env(\"OPENAI_API_KEY\")"
   ]
  },
  {
   "cell_type": "code",
   "execution_count": 78,
   "metadata": {},
   "outputs": [
    {
     "data": {
      "text/plain": [
       "<langgraph.graph.state.StateGraph at 0x11f244dd0>"
      ]
     },
     "execution_count": 78,
     "metadata": {},
     "output_type": "execute_result"
    }
   ],
   "source": [
    "from langgraph.checkpoint.memory import MemorySaver\n",
    "\n",
    "memory = MemorySaver()\n",
    "\n",
    "from typing import Annotated\n",
    "\n",
    "from langchain_openai import ChatOpenAI\n",
    "from langchain_community.tools.tavily_search import TavilySearchResults\n",
    "from langchain_core.messages import SystemMessage\n",
    "from typing_extensions import TypedDict\n",
    "\n",
    "from langgraph.graph import StateGraph, START, END\n",
    "from langgraph.graph.message import add_messages\n",
    "\n",
    "from langchain_core.prompts import ChatPromptTemplate\n",
    "\n",
    "# Corrected planner_prompt\n",
    "planner_prompt = ChatPromptTemplate.from_template(\n",
    "    \"\"\"\n",
    "    Using user's input to make a recipe containing recipe name, ingredients, cook guide.\n",
    "    {messages}\n",
    "    \"\"\"\n",
    ")\n",
    "\n",
    "tool = TavilySearchResults(max_results=2)\n",
    "tools = [tool]\n",
    "llm = ChatOpenAI(model=\"gpt-4o\")\n",
    "llm_with_tools = llm.bind_tools(tools)\n",
    "\n",
    "planner = planner_prompt | llm_with_tools\n",
    "\n",
    "# Corrected structure_prompt\n",
    "structure_prompt = ChatPromptTemplate.from_template(\n",
    "    \"\"\"\n",
    "    Structure the output data in JSON format, containing:\n",
    "    - recipe_name\n",
    "    - instructions\n",
    "    - ingredients.\n",
    "    {messages}\n",
    "    \"\"\"\n",
    ")\n",
    "\n",
    "structure = structure_prompt | ChatOpenAI(\n",
    "    model=\"gpt-3.5-turbo-0125\", temperature=0\n",
    ")\n",
    "\n",
    "\n",
    "class State(TypedDict):\n",
    "    messages: Annotated[list, add_messages]\n",
    "\n",
    "\n",
    "graph_builder = StateGraph(State)\n",
    "\n",
    "def generate_recipe(state: State):\n",
    "    return {\"messages\": [llm_with_tools.invoke(state[\"messages\"])]}\n",
    "\n",
    "def structured_output(state: State):\n",
    "    return {\"messages\": [structure.invoke(state[\"messages\"])]}\n",
    "\n",
    "\n",
    "graph_builder.add_node(\"recipe\", generate_recipe)\n",
    "graph_builder.add_node(\"structured\", structured_output)\n",
    "\n",
    "graph_builder.add_edge(START, \"recipe\")\n",
    "graph_builder.add_edge(\"recipe\", \"structured\")\n",
    "graph_builder.add_edge(\"structured\", END)"
   ]
  },
  {
   "cell_type": "code",
   "execution_count": 79,
   "metadata": {},
   "outputs": [],
   "source": [
    "graph = graph_builder.compile(checkpointer=memory)"
   ]
  },
  {
   "cell_type": "code",
   "execution_count": 80,
   "metadata": {},
   "outputs": [
    {
     "data": {
      "image/png": "[encoded data removed]",
      "text/plain": [
       "<IPython.core.display.Image object>"
      ]
     },
     "metadata": {},
     "output_type": "display_data"
    }
   ],
   "source": [
    "from IPython.display import Image, display\n",
    "\n",
    "try:\n",
    "    display(Image(graph.get_graph().draw_mermaid_png()))\n",
    "except Exception:\n",
    "    # This requires some extra dependencies and is optional\n",
    "    pass"
   ]
  },
  {
   "cell_type": "code",
   "execution_count": 81,
   "metadata": {},
   "outputs": [],
   "source": [
    "config = {\"configurable\": {\"thread_id\": \"1\"}}"
   ]
  },
  {
   "cell_type": "code",
   "execution_count": 82,
   "metadata": {},
   "outputs": [
    {
     "name": "stdout",
     "output_type": "stream",
     "text": [
      "================================\u001b[1m Human Message \u001b[0m=================================\n",
      "\n",
      "我有牛肉、鹽巴、白麵\n",
      "==================================\u001b[1m Ai Message \u001b[0m==================================\n",
      "\n",
      "你可以用牛肉、鹽巴和白麵做一道簡單而美味的料理，比如牛肉炒麵。以下是一個簡單的食譜：\n",
      "\n",
      "### 牛肉炒麵\n",
      "\n",
      "#### 材料：\n",
      "- 牛肉：200克，切片\n",
      "- 白麵：200克\n",
      "- 鹽巴：適量\n",
      "- 蔥花或洋蔥：可選\n",
      "- 大蒜：2瓣，切碎\n",
      "- 生抽：1湯匙（可選）\n",
      "- 老抽：1茶匙（可選）\n",
      "- 植物油：適量\n",
      "- 黑胡椒：適量\n",
      "\n",
      "#### 做法：\n",
      "\n",
      "1. **準備麵條**：\n",
      "   - 將白麵放入滾水中煮熟，根據包裝指示的時間煮麵，然後撈出，用冷水沖洗並瀝乾。\n",
      "\n",
      "2. **醃製牛肉**：\n",
      "   - 在牛肉片中加入少許鹽、黑胡椒和一半的大蒜，拌勻，醃製10分鐘。\n",
      "\n",
      "3. **炒牛肉**：\n",
      "   - 在鍋中加熱適量的植物油，加入剩下的大蒜爆香。\n",
      "   - 加入牛肉片，翻炒至變色，然後盛出備用。\n",
      "\n",
      "4. **炒麵**：\n",
      "   - 在同一鍋中，加入少許油，加入煮熟的白麵，翻炒均勻。\n",
      "   - 如果你有蔥花或洋蔥，可以在此時加入一起炒。\n",
      "\n",
      "5. **混合與調味**：\n",
      "   - 將牛肉倒回鍋中，與麵條混合，加入生抽和老抽（如果使用），翻炒均勻。\n",
      "   - 根據口味調整鹽和黑胡椒。\n",
      "\n",
      "6. **完成**：\n",
      "   - 裝盤，撒上蔥花點綴，即可享用。\n",
      "\n",
      "這道菜既簡單又美味，完美利用了你手中的食材！享受你的美食吧！\n",
      "==================================\u001b[1m Ai Message \u001b[0m==================================\n",
      "\n",
      "```json\n",
      "{\n",
      "    \"recipe_name\": \"牛肉炒麵\",\n",
      "    \"instructions\": [\n",
      "        \"準備麵條：將白麵放入滾水中煮熟，根據包裝指示的時間煮麵，然後撈出，用冷水沖洗並瀝乾。\",\n",
      "        \"醃製牛肉：在牛肉片中加入少許鹽、黑胡椒和一半的大蒜，拌勻，醃製10分鐘。\",\n",
      "        \"炒牛肉：在鍋中加熱適量的植物油，加入剩下的大蒜爆香。加入牛肉片，翻炒至變色，然後盛出備用。\",\n",
      "        \"炒麵：在同一鍋中，加入少許油，加入煮熟的白麵，翻炒均勻。如果你有蔥花或洋蔥，可以在此時加入一起炒。\",\n",
      "        \"混合與調味：將牛肉倒回鍋中，與麵條混合，加入生抽和老抽（如果使用），翻炒均勻。根據口味調整鹽和黑胡椒。\",\n",
      "        \"完成：裝盤，撒上蔥花點綴，即可享用。\"\n",
      "    ],\n",
      "    \"ingredients\": [\n",
      "        \"牛肉：200克，切片\",\n",
      "        \"白麵：200克\",\n",
      "        \"鹽巴：適量\",\n",
      "        \"蔥花或洋蔥：可選\",\n",
      "        \"大蒜：2瓣，切碎\",\n",
      "        \"生抽：1湯匙（可選）\",\n",
      "        \"老抽：1茶匙（可選）\",\n",
      "        \"植物油：適量\",\n",
      "        \"黑胡椒：適量\"\n",
      "    ]\n",
      "}\n",
      "```\n"
     ]
    }
   ],
   "source": [
    "user_input = \"我有牛肉、鹽巴、白麵\"\n",
    "\n",
    "# The config is the **second positional argument** to stream() or invoke()!\n",
    "events = graph.stream(\n",
    "    {\"messages\": [(\"user\", user_input)]}, config, stream_mode=\"values\"\n",
    ")\n",
    "for event in events:\n",
    "    event[\"messages\"][-1].pretty_print()"
   ]
  },
  {
   "cell_type": "code",
   "execution_count": null,
   "metadata": {},
   "outputs": [],
   "source": []
  }
 ],
 "metadata": {
  "kernelspec": {
   "display_name": "chefpal.ai",
   "language": "python",
   "name": "python3"
  },
  "language_info": {
   "codemirror_mode": {
    "name": "ipython",
    "version": 3
   },
   "file_extension": ".py",
   "mimetype": "text/x-python",
   "name": "python",
   "nbconvert_exporter": "python",
   "pygments_lexer": "ipython3",
   "version": "3.13.0"
  }
 },
 "nbformat": 4,
 "nbformat_minor": 2
}
