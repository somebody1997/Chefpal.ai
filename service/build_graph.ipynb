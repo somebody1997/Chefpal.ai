{
 "cells": [
  {
   "cell_type": "code",
   "execution_count": 16,
   "metadata": {},
   "outputs": [],
   "source": [
    "import getpass\n",
    "import os\n",
    "\n",
    "\n",
    "def _set_env(var: str):\n",
    "    if not os.environ.get(var):\n",
    "        os.environ[var] = getpass.getpass(f\"{var}: \")\n",
    "\n",
    "_set_env(\"OPENAI_API_KEY\")"
   ]
  },
  {
   "cell_type": "code",
   "execution_count": 17,
   "metadata": {},
   "outputs": [
    {
     "data": {
      "text/plain": [
       "<langgraph.graph.state.StateGraph at 0x12690a710>"
      ]
     },
     "execution_count": 17,
     "metadata": {},
     "output_type": "execute_result"
    }
   ],
   "source": [
    "from langgraph.checkpoint.memory import MemorySaver\n",
    "\n",
    "memory = MemorySaver()\n",
    "\n",
    "from typing import Annotated\n",
    "\n",
    "from langchain_openai import ChatOpenAI\n",
    "from langchain_community.tools.tavily_search import TavilySearchResults\n",
    "from langchain_core.messages import SystemMessage\n",
    "from typing_extensions import TypedDict\n",
    "\n",
    "from langgraph.graph import StateGraph, START, END\n",
    "from langgraph.graph.message import add_messages\n",
    "\n",
    "from langchain_core.prompts import ChatPromptTemplate\n",
    "\n",
    "# Corrected planner_prompt\n",
    "planner_prompt = ChatPromptTemplate.from_template(\n",
    "    \"\"\"\n",
    "    Here is a list of ingredients: \n",
    "    {messages}\n",
    "\n",
    "    Based on this list, create only one recipe and make sure to clearly label: \n",
    "    - Recipe Name\n",
    "    - Ingredients with specific quantities or weights\n",
    "    - Cooking Instructions with step-by-step guide\n",
    "    The recipe should be creative, easy to follow, and suitable for a home-cooked meal.\n",
    "    \"\"\"\n",
    ")\n",
    "\n",
    "\n",
    "\n",
    "tool = TavilySearchResults(max_results=2)\n",
    "tools = [tool]\n",
    "llm = ChatOpenAI(model=\"gpt-4o\", temperature=0)\n",
    "llm_with_tools = llm.bind_tools(tools)\n",
    "\n",
    "planner = planner_prompt | llm_with_tools\n",
    "\n",
    "# Corrected structure_prompt\n",
    "structure_prompt = ChatPromptTemplate.from_template(\n",
    "    \"\"\"\n",
    "    The only job is structure the recipe into JSON format, containing:\n",
    "    - recipe_name\n",
    "    - instructions\n",
    "    - ingredients.\n",
    "\n",
    "    Each of json value should be markdown formatted.\n",
    "\n",
    "    {messages}\n",
    "    \"\"\"\n",
    ")\n",
    "\n",
    "structure = structure_prompt | ChatOpenAI(\n",
    "    model=\"gpt-3.5-turbo-0125\", temperature=0\n",
    ")\n",
    "\n",
    "\n",
    "class State(TypedDict):\n",
    "    messages: Annotated[list, add_messages]\n",
    "\n",
    "graph_builder = StateGraph(State)\n",
    "\n",
    "def generate_recipe(state: State):\n",
    "    return {\"messages\": [planner.invoke(state[\"messages\"])]}\n",
    "\n",
    "def structured_output(state: State):\n",
    "    return {\"messages\": [structure.invoke(state[\"messages\"])]}\n",
    "\n",
    "\n",
    "graph_builder.add_node(\"recipe\", generate_recipe)\n",
    "graph_builder.add_node(\"structured\", structured_output)\n",
    "\n",
    "graph_builder.add_edge(START, \"recipe\")\n",
    "graph_builder.add_edge(\"recipe\", \"structured\")\n",
    "graph_builder.add_edge(\"structured\", END)"
   ]
  },
  {
   "cell_type": "code",
   "execution_count": 18,
   "metadata": {},
   "outputs": [],
   "source": [
    "graph = graph_builder.compile(checkpointer=memory)"
   ]
  },
  {
   "cell_type": "code",
   "execution_count": 19,
   "metadata": {},
   "outputs": [
    {
     "data": {
      "image/png": "[encoded data removed]",
      "text/plain": [
       "<IPython.core.display.Image object>"
      ]
     },
     "metadata": {},
     "output_type": "display_data"
    }
   ],
   "source": [
    "from IPython.display import Image, display\n",
    "\n",
    "try:\n",
    "    display(Image(graph.get_graph().draw_mermaid_png()))\n",
    "except Exception:\n",
    "    # This requires some extra dependencies and is optional\n",
    "    pass"
   ]
  },
  {
   "cell_type": "code",
   "execution_count": 20,
   "metadata": {},
   "outputs": [],
   "source": [
    "config = {\"configurable\": {\"thread_id\": \"1\"}}"
   ]
  },
  {
   "cell_type": "code",
   "execution_count": null,
   "metadata": {},
   "outputs": [
    {
     "name": "stdout",
     "output_type": "stream",
     "text": [
      "================================\u001b[1m Human Message \u001b[0m=================================\n",
      "\n",
      "Tomato, Mushroom, Green Bell Pepper, Onion, Garlic, Egg, Chicken, Cheese, Yogurt\n",
      "==================================\u001b[1m Ai Message \u001b[0m==================================\n",
      "\n",
      "**Recipe Name: Mediterranean Chicken and Vegetable Skillet**\n",
      "\n",
      "**Ingredients:**\n",
      "- 2 medium Tomatoes, diced\n",
      "- 1 cup Mushrooms, sliced\n",
      "- 1 Green Bell Pepper, chopped\n",
      "- 1 Onion, sliced\n",
      "- 3 cloves Garlic, minced\n",
      "- 2 Eggs\n",
      "- 2 Chicken Breasts, cut into bite-sized pieces\n",
      "- 1 cup Cheese (preferably feta or mozzarella), crumbled or shredded\n",
      "- 1 cup Yogurt (plain, unsweetened)\n",
      "- 2 tablespoons Olive Oil\n",
      "- 1 teaspoon Dried Oregano\n",
      "- 1 teaspoon Paprika\n",
      "- Salt and Pepper to taste\n",
      "- Fresh parsley for garnish (optional)\n",
      "\n",
      "**Cooking Instructions:**\n",
      "\n",
      "1. **Prepare the Ingredients:**\n",
      "   - Dice the tomatoes, slice the mushrooms, chop the green bell pepper, slice the onion, and mince the garlic. Cut the chicken breasts into bite-sized pieces.\n",
      "\n",
      "2. **Cook the Chicken:**\n",
      "   - In a large skillet, heat 1 tablespoon of olive oil over medium heat. Add the chicken pieces and season with salt, pepper, and paprika. Cook until the chicken is browned and cooked through, about 5-7 minutes. Remove the chicken from the skillet and set aside.\n",
      "\n",
      "3. **Sauté the Vegetables:**\n",
      "   - In the same skillet, add the remaining tablespoon of olive oil. Add the onion and garlic, and sauté for 2 minutes until fragrant. Add the mushrooms, green bell pepper, and tomatoes. Cook for another 5 minutes until the vegetables are tender.\n",
      "\n",
      "4. **Combine Chicken and Vegetables:**\n",
      "   - Return the cooked chicken to the skillet with the vegetables. Stir in the dried oregano and adjust seasoning with salt and pepper as needed.\n",
      "\n",
      "5. **Add Eggs and Cheese:**\n",
      "   - Make two small wells in the mixture and crack an egg into each well. Sprinkle the cheese over the entire skillet. Cover the skillet and let it cook for about 5 minutes, or until the eggs are cooked to your liking and the cheese is melted.\n",
      "\n",
      "6. **Finish with Yogurt:**\n",
      "   - Remove the skillet from heat and drizzle the yogurt over the top. Gently swirl it into the mixture for a creamy texture.\n",
      "\n",
      "7. **Serve:**\n",
      "   - Garnish with fresh parsley if desired. Serve hot, directly from the skillet, and enjoy your Mediterranean Chicken and Vegetable Skillet!\n",
      "\n",
      "This recipe is a delightful combination of flavors and textures, perfect for a nutritious and satisfying home-cooked meal.\n",
      "==================================\u001b[1m Ai Message \u001b[0m==================================\n",
      "\n",
      "```json\n",
      "{\n",
      "  \"recipe_name\": \"**Recipe Name: Mediterranean Chicken and Vegetable Skillet**\",\n",
      "  \"ingredients\": \"- 2 medium Tomatoes, diced\\n- 1 cup Mushrooms, sliced\\n- 1 Green Bell Pepper, chopped\\n- 1 Onion, sliced\\n- 3 cloves Garlic, minced\\n- 2 Eggs\\n- 2 Chicken Breasts, cut into bite-sized pieces\\n- 1 cup Cheese (preferably feta or mozzarella), crumbled or shredded\\n- 1 cup Yogurt (plain, unsweetened)\\n- 2 tablespoons Olive Oil\\n- 1 teaspoon Dried Oregano\\n- 1 teaspoon Paprika\\n- Salt and Pepper to taste\\n- Fresh parsley for garnish (optional)\",\n",
      "  \"instructions\": \"**Cooking Instructions:**\\n\\n1. **Prepare the Ingredients:**\\n   - Dice the tomatoes, slice the mushrooms, chop the green bell pepper, slice the onion, and mince the garlic. Cut the chicken breasts into bite-sized pieces.\\n\\n2. **Cook the Chicken:**\\n   - In a large skillet, heat 1 tablespoon of olive oil over medium heat. Add the chicken pieces and season with salt, pepper, and paprika. Cook until the chicken is browned and cooked through, about 5-7 minutes. Remove the chicken from the skillet and set aside.\\n\\n3. **Sauté the Vegetables:**\\n   - In the same skillet, add the remaining tablespoon of olive oil. Add the onion and garlic, and sauté for 2 minutes until fragrant. Add the mushrooms, green bell pepper, and tomatoes. Cook for another 5 minutes until the vegetables are tender.\\n\\n4. **Combine Chicken and Vegetables:**\\n   - Return the cooked chicken to the skillet with the vegetables. Stir in the dried oregano and adjust seasoning with salt and pepper as needed.\\n\\n5. **Add Eggs and Cheese:**\\n   - Make two small wells in the mixture and crack an egg into each well. Sprinkle the cheese over the entire skillet. Cover the skillet and let it cook for about 5 minutes, or until the eggs are cooked to your liking and the cheese is melted.\\n\\n6. **Finish with Yogurt:**\\n   - Remove the skillet from heat and drizzle the yogurt over the top. Gently swirl it into the mixture for a creamy texture.\\n\\n7. **Serve:**\\n   - Garnish with fresh parsley if desired. Serve hot, directly from the skillet, and enjoy your Mediterranean Chicken and Vegetable Skillet!\\n\\nThis recipe is a delightful combination of flavors and textures, perfect for a nutritious and satisfying home-cooked meal.\"\n",
      "}\n",
      "```\n"
     ]
    }
   ],
   "source": [
    "# user_input = \"Tomato, Mushroom, Green Bell Pepper, Onion, Garlic, Egg, Chicken Breast, Tofu, Milk, Cheese, Yogurt, Lettuce, Cooked Rice, Bacon, Lemon\"\n",
    "\n",
    "user_input = \"Tomato, Mushroom, Green Bell Pepper, Onion, Garlic, Egg, Chicken, Cheese, Yogurt\"\n",
    "\n",
    "# \"Tomato, Mushroom, Green Bell Pepper, Onion, Garlic, Egg, Chicken Breast, Tofu, Milk, Cheese, Yogurt, Lettuce, Cooked Rice, Bacon, Lemon\"\n",
    "\n",
    "# The config is the **second positional argument** to stream() or invoke()!\n",
    "events = graph.invoke(\n",
    "    {\"messages\": user_input}, config, stream_mode=\"values\"\n",
    ")\n",
    "for event in events:\n",
    "    event[\"messages\"][-1].pretty_print()"
   ]
  },
  {
   "cell_type": "code",
   "execution_count": null,
   "metadata": {},
   "outputs": [],
   "source": []
  }
 ],
 "metadata": {
  "kernelspec": {
   "display_name": "chefpal.ai",
   "language": "python",
   "name": "python3"
  },
  "language_info": {
   "codemirror_mode": {
    "name": "ipython",
    "version": 3
   },
   "file_extension": ".py",
   "mimetype": "text/x-python",
   "name": "python",
   "nbconvert_exporter": "python",
   "pygments_lexer": "ipython3",
   "version": "3.13.0"
  }
 },
 "nbformat": 4,
 "nbformat_minor": 2
}
